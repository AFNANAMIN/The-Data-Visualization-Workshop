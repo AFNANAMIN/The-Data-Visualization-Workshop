{
 "cells": [
  {
   "cell_type": "markdown",
   "metadata": {},
   "source": [
    "## Exercise n: Choropleth plot with geojson data"
   ]
  },
  {
   "cell_type": "markdown",
   "metadata": {},
   "source": [
    "In this exercise, we not only want work with geojson data, but also see how we can create a choropleth visualization.   \n",
    "They are espacially useful to display statistical variables in shaded areas. In our case the areas will be the outlines of the states of the USA.\n",
    "\n",
    "Note:\n",
    "The dataset can be found here:   \n",
    "https://catalog.data.gov/dataset/national-obesity-by-state-b181b"
   ]
  },
  {
   "cell_type": "markdown",
   "metadata": {},
   "source": [
    "The GeoJSON format is used to encode a variety of data structures like Points, Lines, and Polygons with focus on geographical visualization.\n",
    "The format has a defined structure that each valid file has to follow.\n",
    "\n",
    "```json\n",
    "{\n",
    "  \"type\": \"Feature\",\n",
    "  \"properties\": {\n",
    "    \"name\": \"Dinagat Islands\"\n",
    "  },\n",
    "  \"geometry\": {\n",
    "    \"type\": \"Point\",\n",
    "    \"coordinates\": [125.6, 10.1]\n",
    "  }\n",
    "}\n",
    "```\n",
    "\n",
    "Each object with additional properties, like e.g. an id or name attribute, are Features.\n",
    "Properties simply allow for additional information to be added to the feature.\n",
    "The geometry attribute holds information about the type of feature we are working with, e.g. a Point, and its specific coordinates. \n",
    "The coordinates define the positions for the “waypoints” of the given type. Those coordinates define the shape of the element to be displayed by the plotting library.\n",
    "\n",
    "---"
   ]
  },
  {
   "cell_type": "markdown",
   "metadata": {},
   "source": [
    "#### Loading the dataset"
   ]
  },
  {
   "cell_type": "markdown",
   "metadata": {},
   "source": [
    "Our dataset contains the points that define the different states and an obesity value that represents the percentage of people that are obese per state.   \n",
    "Since the geojson method of geoplotlib works by providing a file path to the geojson file, we don't have to do any importing and loading of the data.   \n",
    "\n",
    "\n",
    "We still want to load the dataset and look at the structure of the geojson file."
   ]
  },
  {
   "cell_type": "code",
   "execution_count": 1,
   "metadata": {},
   "outputs": [],
   "source": [
    "# importing the necessary dependencies\n"
   ]
  },
  {
   "cell_type": "code",
   "execution_count": 2,
   "metadata": {},
   "outputs": [
    {
     "name": "stdout",
     "output_type": "stream",
     "text": [
      "{\n",
      "    \"type\": \"Feature\",\n",
      "    \"properties\": {\n",
      "        \"OBJECTID\": 1,\n",
      "        \"NAME\": \"Texas\",\n",
      "        \"Obesity\": 32.4,\n",
      "        \"Shape__Area\": 7672329221282.43,\n",
      "        \"Shape__Length\": 15408321.8693326\n",
      "    },\n",
      "    \"geometry\": {\n",
      "        \"type\": \"Polygon\",\n",
      "        \"coordinates\": [\n",
      "            -106.623454789568,\n",
      "            31.9140391520155\n",
      "        ]\n",
      "    }\n",
      "}\n"
     ]
    }
   ],
   "source": [
    "# displaying one of the entries for the states\n",
    "with open('data/National_Obesity_By_State.geojson') as data:\n",
    "    dataset = json.load(data)\n",
    "    \n",
    "    first_state = dataset.get('features')[0]\n",
    "    \n",
    "    # only showing one coordinate instead of all points\n",
    "    first_state['geometry']['coordinates'] = first_state['geometry']['coordinates'][0][0]\n",
    "    print(json.dumps(first_state, indent=4))\n",
    "    "
   ]
  },
  {
   "cell_type": "markdown",
   "metadata": {},
   "source": [
    "Extract the names of all the states of the US from the obesity database."
   ]
  },
  {
   "cell_type": "code",
   "execution_count": 2,
   "metadata": {},
   "outputs": [],
   "source": [
    "# listing the states in the dataset"
   ]
  },
  {
   "cell_type": "markdown",
   "metadata": {},
   "source": [
    "##### **Note:**   \n",
    "The dataset has been altered, if you download it from the link mentioned in the introduction, please edit the file and remove the object describing Hawaii.   \n",
    "It lacks geometry data which leads to an error in geoplotlib."
   ]
  },
  {
   "cell_type": "markdown",
   "metadata": {},
   "source": [
    "---"
   ]
  },
  {
   "cell_type": "markdown",
   "metadata": {},
   "source": [
    "#### Creating a Choropleth with geojson data"
   ]
  },
  {
   "cell_type": "markdown",
   "metadata": {},
   "source": [
    "Use the `National_Obesity_By_State.geojson` file in the data folder to visualize the different states."
   ]
  },
  {
   "cell_type": "code",
   "execution_count": 3,
   "metadata": {},
   "outputs": [],
   "source": [
    "# plotting the information from the geojson file\n"
   ]
  },
  {
   "cell_type": "markdown",
   "metadata": {},
   "source": [
    "The visualization above does not give us any kind of information about the obesity per state. It completely lacks the information we wanted to display.   \n",
    "When using choropleth plots, the shading of given areas is the important feature, in this case we'll use the obesity percentage as statistical value to determine the value of the shading.\n",
    "\n",
    "Therefore we have to create a mapping function that converts the numerical value into a color.\n",
    "\n",
    "**Note:**   \n",
    "If you're stuck, please take a look at the example provided by the library to understand how to create a custom color mapping.   \n",
    "https://github.com/andrea-cuttone/geoplotlib/blob/master/examples/choropleth.py"
   ]
  },
  {
   "cell_type": "code",
   "execution_count": 4,
   "metadata": {},
   "outputs": [],
   "source": [
    "# converting the obesity into a color\n"
   ]
  },
  {
   "cell_type": "markdown",
   "metadata": {},
   "source": [
    "- Provide the color mapping to our color parameter and set the fill parameter to True.\n",
    "- In addition to that, leverage the concept that Geoplotlib is layer-based, by simply calling the same method again and providing a white color and setting the fill parameter to false. \n",
    "- Use the USA constant of the BoundingBox class to set the bounding box"
   ]
  },
  {
   "cell_type": "code",
   "execution_count": 5,
   "metadata": {},
   "outputs": [],
   "source": [
    "# plotting the shaded states and adding another layer which plots the state outlines in white\n",
    "# our BoundingBox should focus the USA\n"
   ]
  },
  {
   "cell_type": "markdown",
   "metadata": {},
   "source": [
    "**Note:**   \n",
    "In the introduction we mentioned that geoplotlib works with a layer based system.   \n",
    "This means that we can simply stack the same or different layers on top like in the example above. "
   ]
  },
  {
   "cell_type": "markdown",
   "metadata": {},
   "source": [
    "Give the user some more information for this plot, use the f_tooltip argument to provide a tooltip displaying the name and the obesity rate of the currently hovered state."
   ]
  },
  {
   "cell_type": "code",
   "execution_count": 6,
   "metadata": {},
   "outputs": [],
   "source": [
    "# adding the f_tooltip that\n"
   ]
  }
 ],
 "metadata": {
  "kernelspec": {
   "display_name": "Python 3",
   "language": "python",
   "name": "python3"
  },
  "language_info": {
   "codemirror_mode": {
    "name": "ipython",
    "version": 3
   },
   "file_extension": ".py",
   "mimetype": "text/x-python",
   "name": "python",
   "nbconvert_exporter": "python",
   "pygments_lexer": "ipython3",
   "version": "3.7.2"
  }
 },
 "nbformat": 4,
 "nbformat_minor": 2
}
