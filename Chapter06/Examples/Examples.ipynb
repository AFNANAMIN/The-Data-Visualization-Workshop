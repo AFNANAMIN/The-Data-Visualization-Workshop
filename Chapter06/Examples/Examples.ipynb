{
 "cells": [
  {
   "cell_type": "markdown",
   "metadata": {},
   "source": [
    "## Examples"
   ]
  },
  {
   "cell_type": "markdown",
   "metadata": {},
   "source": [
    "In this examples document we will look at the plots and techniques we'll be using in the following exercises and activities.\n"
   ]
  },
  {
   "cell_type": "markdown",
   "metadata": {},
   "source": [
    "#### Loading our dataset"
   ]
  },
  {
   "cell_type": "code",
   "execution_count": 40,
   "metadata": {},
   "outputs": [
    {
     "data": {
      "text/html": [
       "\n",
       "    <div class=\"bk-root\">\n",
       "        <a href=\"https://bokeh.org\" target=\"_blank\" class=\"bk-logo bk-logo-small bk-logo-notebook\"></a>\n",
       "        <span id=\"3400\">Loading BokehJS ...</span>\n",
       "    </div>"
      ]
     },
     "metadata": {},
     "output_type": "display_data"
    },
    {
     "data": {
      "application/javascript": [
       "\n",
       "(function(root) {\n",
       "  function now() {\n",
       "    return new Date();\n",
       "  }\n",
       "\n",
       "  var force = true;\n",
       "\n",
       "  if (typeof root._bokeh_onload_callbacks === \"undefined\" || force === true) {\n",
       "    root._bokeh_onload_callbacks = [];\n",
       "    root._bokeh_is_loading = undefined;\n",
       "  }\n",
       "\n",
       "  var JS_MIME_TYPE = 'application/javascript';\n",
       "  var HTML_MIME_TYPE = 'text/html';\n",
       "  var EXEC_MIME_TYPE = 'application/vnd.bokehjs_exec.v0+json';\n",
       "  var CLASS_NAME = 'output_bokeh rendered_html';\n",
       "\n",
       "  /**\n",
       "   * Render data to the DOM node\n",
       "   */\n",
       "  function render(props, node) {\n",
       "    var script = document.createElement(\"script\");\n",
       "    node.appendChild(script);\n",
       "  }\n",
       "\n",
       "  /**\n",
       "   * Handle when an output is cleared or removed\n",
       "   */\n",
       "  function handleClearOutput(event, handle) {\n",
       "    var cell = handle.cell;\n",
       "\n",
       "    var id = cell.output_area._bokeh_element_id;\n",
       "    var server_id = cell.output_area._bokeh_server_id;\n",
       "    // Clean up Bokeh references\n",
       "    if (id != null && id in Bokeh.index) {\n",
       "      Bokeh.index[id].model.document.clear();\n",
       "      delete Bokeh.index[id];\n",
       "    }\n",
       "\n",
       "    if (server_id !== undefined) {\n",
       "      // Clean up Bokeh references\n",
       "      var cmd = \"from bokeh.io.state import curstate; print(curstate().uuid_to_server['\" + server_id + \"'].get_sessions()[0].document.roots[0]._id)\";\n",
       "      cell.notebook.kernel.execute(cmd, {\n",
       "        iopub: {\n",
       "          output: function(msg) {\n",
       "            var id = msg.content.text.trim();\n",
       "            if (id in Bokeh.index) {\n",
       "              Bokeh.index[id].model.document.clear();\n",
       "              delete Bokeh.index[id];\n",
       "            }\n",
       "          }\n",
       "        }\n",
       "      });\n",
       "      // Destroy server and session\n",
       "      var cmd = \"import bokeh.io.notebook as ion; ion.destroy_server('\" + server_id + \"')\";\n",
       "      cell.notebook.kernel.execute(cmd);\n",
       "    }\n",
       "  }\n",
       "\n",
       "  /**\n",
       "   * Handle when a new output is added\n",
       "   */\n",
       "  function handleAddOutput(event, handle) {\n",
       "    var output_area = handle.output_area;\n",
       "    var output = handle.output;\n",
       "\n",
       "    // limit handleAddOutput to display_data with EXEC_MIME_TYPE content only\n",
       "    if ((output.output_type != \"display_data\") || (!output.data.hasOwnProperty(EXEC_MIME_TYPE))) {\n",
       "      return\n",
       "    }\n",
       "\n",
       "    var toinsert = output_area.element.find(\".\" + CLASS_NAME.split(' ')[0]);\n",
       "\n",
       "    if (output.metadata[EXEC_MIME_TYPE][\"id\"] !== undefined) {\n",
       "      toinsert[toinsert.length - 1].firstChild.textContent = output.data[JS_MIME_TYPE];\n",
       "      // store reference to embed id on output_area\n",
       "      output_area._bokeh_element_id = output.metadata[EXEC_MIME_TYPE][\"id\"];\n",
       "    }\n",
       "    if (output.metadata[EXEC_MIME_TYPE][\"server_id\"] !== undefined) {\n",
       "      var bk_div = document.createElement(\"div\");\n",
       "      bk_div.innerHTML = output.data[HTML_MIME_TYPE];\n",
       "      var script_attrs = bk_div.children[0].attributes;\n",
       "      for (var i = 0; i < script_attrs.length; i++) {\n",
       "        toinsert[toinsert.length - 1].firstChild.setAttribute(script_attrs[i].name, script_attrs[i].value);\n",
       "      }\n",
       "      // store reference to server id on output_area\n",
       "      output_area._bokeh_server_id = output.metadata[EXEC_MIME_TYPE][\"server_id\"];\n",
       "    }\n",
       "  }\n",
       "\n",
       "  function register_renderer(events, OutputArea) {\n",
       "\n",
       "    function append_mime(data, metadata, element) {\n",
       "      // create a DOM node to render to\n",
       "      var toinsert = this.create_output_subarea(\n",
       "        metadata,\n",
       "        CLASS_NAME,\n",
       "        EXEC_MIME_TYPE\n",
       "      );\n",
       "      this.keyboard_manager.register_events(toinsert);\n",
       "      // Render to node\n",
       "      var props = {data: data, metadata: metadata[EXEC_MIME_TYPE]};\n",
       "      render(props, toinsert[toinsert.length - 1]);\n",
       "      element.append(toinsert);\n",
       "      return toinsert\n",
       "    }\n",
       "\n",
       "    /* Handle when an output is cleared or removed */\n",
       "    events.on('clear_output.CodeCell', handleClearOutput);\n",
       "    events.on('delete.Cell', handleClearOutput);\n",
       "\n",
       "    /* Handle when a new output is added */\n",
       "    events.on('output_added.OutputArea', handleAddOutput);\n",
       "\n",
       "    /**\n",
       "     * Register the mime type and append_mime function with output_area\n",
       "     */\n",
       "    OutputArea.prototype.register_mime_type(EXEC_MIME_TYPE, append_mime, {\n",
       "      /* Is output safe? */\n",
       "      safe: true,\n",
       "      /* Index of renderer in `output_area.display_order` */\n",
       "      index: 0\n",
       "    });\n",
       "  }\n",
       "\n",
       "  // register the mime type if in Jupyter Notebook environment and previously unregistered\n",
       "  if (root.Jupyter !== undefined) {\n",
       "    var events = require('base/js/events');\n",
       "    var OutputArea = require('notebook/js/outputarea').OutputArea;\n",
       "\n",
       "    if (OutputArea.prototype.mime_types().indexOf(EXEC_MIME_TYPE) == -1) {\n",
       "      register_renderer(events, OutputArea);\n",
       "    }\n",
       "  }\n",
       "\n",
       "  \n",
       "  if (typeof (root._bokeh_timeout) === \"undefined\" || force === true) {\n",
       "    root._bokeh_timeout = Date.now() + 5000;\n",
       "    root._bokeh_failed_load = false;\n",
       "  }\n",
       "\n",
       "  var NB_LOAD_WARNING = {'data': {'text/html':\n",
       "     \"<div style='background-color: #fdd'>\\n\"+\n",
       "     \"<p>\\n\"+\n",
       "     \"BokehJS does not appear to have successfully loaded. If loading BokehJS from CDN, this \\n\"+\n",
       "     \"may be due to a slow or bad network connection. Possible fixes:\\n\"+\n",
       "     \"</p>\\n\"+\n",
       "     \"<ul>\\n\"+\n",
       "     \"<li>re-rerun `output_notebook()` to attempt to load from CDN again, or</li>\\n\"+\n",
       "     \"<li>use INLINE resources instead, as so:</li>\\n\"+\n",
       "     \"</ul>\\n\"+\n",
       "     \"<code>\\n\"+\n",
       "     \"from bokeh.resources import INLINE\\n\"+\n",
       "     \"output_notebook(resources=INLINE)\\n\"+\n",
       "     \"</code>\\n\"+\n",
       "     \"</div>\"}};\n",
       "\n",
       "  function display_loaded() {\n",
       "    var el = document.getElementById(\"3400\");\n",
       "    if (el != null) {\n",
       "      el.textContent = \"BokehJS is loading...\";\n",
       "    }\n",
       "    if (root.Bokeh !== undefined) {\n",
       "      if (el != null) {\n",
       "        el.textContent = \"BokehJS \" + root.Bokeh.version + \" successfully loaded.\";\n",
       "      }\n",
       "    } else if (Date.now() < root._bokeh_timeout) {\n",
       "      setTimeout(display_loaded, 100)\n",
       "    }\n",
       "  }\n",
       "\n",
       "\n",
       "  function run_callbacks() {\n",
       "    try {\n",
       "      root._bokeh_onload_callbacks.forEach(function(callback) {\n",
       "        if (callback != null)\n",
       "          callback();\n",
       "      });\n",
       "    } finally {\n",
       "      delete root._bokeh_onload_callbacks\n",
       "    }\n",
       "    console.debug(\"Bokeh: all callbacks have finished\");\n",
       "  }\n",
       "\n",
       "  function load_libs(css_urls, js_urls, callback) {\n",
       "    if (css_urls == null) css_urls = [];\n",
       "    if (js_urls == null) js_urls = [];\n",
       "\n",
       "    root._bokeh_onload_callbacks.push(callback);\n",
       "    if (root._bokeh_is_loading > 0) {\n",
       "      console.debug(\"Bokeh: BokehJS is being loaded, scheduling callback at\", now());\n",
       "      return null;\n",
       "    }\n",
       "    if (js_urls == null || js_urls.length === 0) {\n",
       "      run_callbacks();\n",
       "      return null;\n",
       "    }\n",
       "    console.debug(\"Bokeh: BokehJS not loaded, scheduling load and callback at\", now());\n",
       "    root._bokeh_is_loading = css_urls.length + js_urls.length;\n",
       "\n",
       "    function on_load() {\n",
       "      root._bokeh_is_loading--;\n",
       "      if (root._bokeh_is_loading === 0) {\n",
       "        console.debug(\"Bokeh: all BokehJS libraries/stylesheets loaded\");\n",
       "        run_callbacks()\n",
       "      }\n",
       "    }\n",
       "\n",
       "    function on_error() {\n",
       "      console.error(\"failed to load \" + url);\n",
       "    }\n",
       "\n",
       "    for (var i = 0; i < css_urls.length; i++) {\n",
       "      var url = css_urls[i];\n",
       "      const element = document.createElement(\"link\");\n",
       "      element.onload = on_load;\n",
       "      element.onerror = on_error;\n",
       "      element.rel = \"stylesheet\";\n",
       "      element.type = \"text/css\";\n",
       "      element.href = url;\n",
       "      console.debug(\"Bokeh: injecting link tag for BokehJS stylesheet: \", url);\n",
       "      document.body.appendChild(element);\n",
       "    }\n",
       "\n",
       "    for (var i = 0; i < js_urls.length; i++) {\n",
       "      var url = js_urls[i];\n",
       "      var element = document.createElement('script');\n",
       "      element.onload = on_load;\n",
       "      element.onerror = on_error;\n",
       "      element.async = false;\n",
       "      element.src = url;\n",
       "      console.debug(\"Bokeh: injecting script tag for BokehJS library: \", url);\n",
       "      document.head.appendChild(element);\n",
       "    }\n",
       "  };var element = document.getElementById(\"3400\");\n",
       "  if (element == null) {\n",
       "    console.error(\"Bokeh: ERROR: autoload.js configured with elementid '3400' but no matching script tag was found. \")\n",
       "    return false;\n",
       "  }\n",
       "\n",
       "  function inject_raw_css(css) {\n",
       "    const element = document.createElement(\"style\");\n",
       "    element.appendChild(document.createTextNode(css));\n",
       "    document.body.appendChild(element);\n",
       "  }\n",
       "\n",
       "  \n",
       "  var js_urls = [\"https://cdn.pydata.org/bokeh/release/bokeh-1.4.0.min.js\", \"https://cdn.pydata.org/bokeh/release/bokeh-widgets-1.4.0.min.js\", \"https://cdn.pydata.org/bokeh/release/bokeh-tables-1.4.0.min.js\", \"https://cdn.pydata.org/bokeh/release/bokeh-gl-1.4.0.min.js\"];\n",
       "  var css_urls = [];\n",
       "  \n",
       "\n",
       "  var inline_js = [\n",
       "    function(Bokeh) {\n",
       "      Bokeh.set_log_level(\"info\");\n",
       "    },\n",
       "    function(Bokeh) {\n",
       "    \n",
       "    \n",
       "    }\n",
       "  ];\n",
       "\n",
       "  function run_inline_js() {\n",
       "    \n",
       "    if (root.Bokeh !== undefined || force === true) {\n",
       "      \n",
       "    for (var i = 0; i < inline_js.length; i++) {\n",
       "      inline_js[i].call(root, root.Bokeh);\n",
       "    }\n",
       "    if (force === true) {\n",
       "        display_loaded();\n",
       "      }} else if (Date.now() < root._bokeh_timeout) {\n",
       "      setTimeout(run_inline_js, 100);\n",
       "    } else if (!root._bokeh_failed_load) {\n",
       "      console.log(\"Bokeh: BokehJS failed to load within specified timeout.\");\n",
       "      root._bokeh_failed_load = true;\n",
       "    } else if (force !== true) {\n",
       "      var cell = $(document.getElementById(\"3400\")).parents('.cell').data().cell;\n",
       "      cell.output_area.append_execute_result(NB_LOAD_WARNING)\n",
       "    }\n",
       "\n",
       "  }\n",
       "\n",
       "  if (root._bokeh_is_loading === 0) {\n",
       "    console.debug(\"Bokeh: BokehJS loaded, going straight to plotting\");\n",
       "    run_inline_js();\n",
       "  } else {\n",
       "    load_libs(css_urls, js_urls, function() {\n",
       "      console.debug(\"Bokeh: BokehJS plotting callback run at\", now());\n",
       "      run_inline_js();\n",
       "    });\n",
       "  }\n",
       "}(window));"
      ],
      "application/vnd.bokehjs_load.v0+json": "\n(function(root) {\n  function now() {\n    return new Date();\n  }\n\n  var force = true;\n\n  if (typeof root._bokeh_onload_callbacks === \"undefined\" || force === true) {\n    root._bokeh_onload_callbacks = [];\n    root._bokeh_is_loading = undefined;\n  }\n\n  \n\n  \n  if (typeof (root._bokeh_timeout) === \"undefined\" || force === true) {\n    root._bokeh_timeout = Date.now() + 5000;\n    root._bokeh_failed_load = false;\n  }\n\n  var NB_LOAD_WARNING = {'data': {'text/html':\n     \"<div style='background-color: #fdd'>\\n\"+\n     \"<p>\\n\"+\n     \"BokehJS does not appear to have successfully loaded. If loading BokehJS from CDN, this \\n\"+\n     \"may be due to a slow or bad network connection. Possible fixes:\\n\"+\n     \"</p>\\n\"+\n     \"<ul>\\n\"+\n     \"<li>re-rerun `output_notebook()` to attempt to load from CDN again, or</li>\\n\"+\n     \"<li>use INLINE resources instead, as so:</li>\\n\"+\n     \"</ul>\\n\"+\n     \"<code>\\n\"+\n     \"from bokeh.resources import INLINE\\n\"+\n     \"output_notebook(resources=INLINE)\\n\"+\n     \"</code>\\n\"+\n     \"</div>\"}};\n\n  function display_loaded() {\n    var el = document.getElementById(\"3400\");\n    if (el != null) {\n      el.textContent = \"BokehJS is loading...\";\n    }\n    if (root.Bokeh !== undefined) {\n      if (el != null) {\n        el.textContent = \"BokehJS \" + root.Bokeh.version + \" successfully loaded.\";\n      }\n    } else if (Date.now() < root._bokeh_timeout) {\n      setTimeout(display_loaded, 100)\n    }\n  }\n\n\n  function run_callbacks() {\n    try {\n      root._bokeh_onload_callbacks.forEach(function(callback) {\n        if (callback != null)\n          callback();\n      });\n    } finally {\n      delete root._bokeh_onload_callbacks\n    }\n    console.debug(\"Bokeh: all callbacks have finished\");\n  }\n\n  function load_libs(css_urls, js_urls, callback) {\n    if (css_urls == null) css_urls = [];\n    if (js_urls == null) js_urls = [];\n\n    root._bokeh_onload_callbacks.push(callback);\n    if (root._bokeh_is_loading > 0) {\n      console.debug(\"Bokeh: BokehJS is being loaded, scheduling callback at\", now());\n      return null;\n    }\n    if (js_urls == null || js_urls.length === 0) {\n      run_callbacks();\n      return null;\n    }\n    console.debug(\"Bokeh: BokehJS not loaded, scheduling load and callback at\", now());\n    root._bokeh_is_loading = css_urls.length + js_urls.length;\n\n    function on_load() {\n      root._bokeh_is_loading--;\n      if (root._bokeh_is_loading === 0) {\n        console.debug(\"Bokeh: all BokehJS libraries/stylesheets loaded\");\n        run_callbacks()\n      }\n    }\n\n    function on_error() {\n      console.error(\"failed to load \" + url);\n    }\n\n    for (var i = 0; i < css_urls.length; i++) {\n      var url = css_urls[i];\n      const element = document.createElement(\"link\");\n      element.onload = on_load;\n      element.onerror = on_error;\n      element.rel = \"stylesheet\";\n      element.type = \"text/css\";\n      element.href = url;\n      console.debug(\"Bokeh: injecting link tag for BokehJS stylesheet: \", url);\n      document.body.appendChild(element);\n    }\n\n    for (var i = 0; i < js_urls.length; i++) {\n      var url = js_urls[i];\n      var element = document.createElement('script');\n      element.onload = on_load;\n      element.onerror = on_error;\n      element.async = false;\n      element.src = url;\n      console.debug(\"Bokeh: injecting script tag for BokehJS library: \", url);\n      document.head.appendChild(element);\n    }\n  };var element = document.getElementById(\"3400\");\n  if (element == null) {\n    console.error(\"Bokeh: ERROR: autoload.js configured with elementid '3400' but no matching script tag was found. \")\n    return false;\n  }\n\n  function inject_raw_css(css) {\n    const element = document.createElement(\"style\");\n    element.appendChild(document.createTextNode(css));\n    document.body.appendChild(element);\n  }\n\n  \n  var js_urls = [\"https://cdn.pydata.org/bokeh/release/bokeh-1.4.0.min.js\", \"https://cdn.pydata.org/bokeh/release/bokeh-widgets-1.4.0.min.js\", \"https://cdn.pydata.org/bokeh/release/bokeh-tables-1.4.0.min.js\", \"https://cdn.pydata.org/bokeh/release/bokeh-gl-1.4.0.min.js\"];\n  var css_urls = [];\n  \n\n  var inline_js = [\n    function(Bokeh) {\n      Bokeh.set_log_level(\"info\");\n    },\n    function(Bokeh) {\n    \n    \n    }\n  ];\n\n  function run_inline_js() {\n    \n    if (root.Bokeh !== undefined || force === true) {\n      \n    for (var i = 0; i < inline_js.length; i++) {\n      inline_js[i].call(root, root.Bokeh);\n    }\n    if (force === true) {\n        display_loaded();\n      }} else if (Date.now() < root._bokeh_timeout) {\n      setTimeout(run_inline_js, 100);\n    } else if (!root._bokeh_failed_load) {\n      console.log(\"Bokeh: BokehJS failed to load within specified timeout.\");\n      root._bokeh_failed_load = true;\n    } else if (force !== true) {\n      var cell = $(document.getElementById(\"3400\")).parents('.cell').data().cell;\n      cell.output_area.append_execute_result(NB_LOAD_WARNING)\n    }\n\n  }\n\n  if (root._bokeh_is_loading === 0) {\n    console.debug(\"Bokeh: BokehJS loaded, going straight to plotting\");\n    run_inline_js();\n  } else {\n    load_libs(css_urls, js_urls, function() {\n      console.debug(\"Bokeh: BokehJS plotting callback run at\", now());\n      run_inline_js();\n    });\n  }\n}(window));"
     },
     "metadata": {},
     "output_type": "display_data"
    }
   ],
   "source": [
    "# importing the necessary dependencies\n",
    "import pandas as pd\n",
    "from bokeh.plotting import figure, show\n",
    "from bokeh.io import output_notebook\n",
    "\n",
    "output_notebook()"
   ]
  },
  {
   "cell_type": "code",
   "execution_count": 41,
   "metadata": {},
   "outputs": [],
   "source": [
    "# loading the Dataset with pandas\n",
    "dataset = pd.read_csv('../../datasets/computer_hardware.csv')"
   ]
  },
  {
   "cell_type": "code",
   "execution_count": 42,
   "metadata": {},
   "outputs": [
    {
     "data": {
      "text/html": [
       "<div>\n",
       "<style scoped>\n",
       "    .dataframe tbody tr th:only-of-type {\n",
       "        vertical-align: middle;\n",
       "    }\n",
       "\n",
       "    .dataframe tbody tr th {\n",
       "        vertical-align: top;\n",
       "    }\n",
       "\n",
       "    .dataframe thead th {\n",
       "        text-align: right;\n",
       "    }\n",
       "</style>\n",
       "<table border=\"1\" class=\"dataframe\">\n",
       "  <thead>\n",
       "    <tr style=\"text-align: right;\">\n",
       "      <th></th>\n",
       "      <th>vendor_name</th>\n",
       "      <th>model</th>\n",
       "      <th>myct</th>\n",
       "      <th>mmin</th>\n",
       "      <th>mmax</th>\n",
       "      <th>cach</th>\n",
       "      <th>chmin</th>\n",
       "      <th>chmax</th>\n",
       "      <th>prp</th>\n",
       "      <th>erp</th>\n",
       "    </tr>\n",
       "  </thead>\n",
       "  <tbody>\n",
       "    <tr>\n",
       "      <th>0</th>\n",
       "      <td>adviser</td>\n",
       "      <td>32/60</td>\n",
       "      <td>125</td>\n",
       "      <td>256</td>\n",
       "      <td>6000</td>\n",
       "      <td>256</td>\n",
       "      <td>16</td>\n",
       "      <td>128</td>\n",
       "      <td>198</td>\n",
       "      <td>199</td>\n",
       "    </tr>\n",
       "    <tr>\n",
       "      <th>1</th>\n",
       "      <td>amdahl</td>\n",
       "      <td>470v/7</td>\n",
       "      <td>29</td>\n",
       "      <td>8000</td>\n",
       "      <td>32000</td>\n",
       "      <td>32</td>\n",
       "      <td>8</td>\n",
       "      <td>32</td>\n",
       "      <td>269</td>\n",
       "      <td>253</td>\n",
       "    </tr>\n",
       "    <tr>\n",
       "      <th>2</th>\n",
       "      <td>amdahl</td>\n",
       "      <td>470v/7a</td>\n",
       "      <td>29</td>\n",
       "      <td>8000</td>\n",
       "      <td>32000</td>\n",
       "      <td>32</td>\n",
       "      <td>8</td>\n",
       "      <td>32</td>\n",
       "      <td>220</td>\n",
       "      <td>253</td>\n",
       "    </tr>\n",
       "    <tr>\n",
       "      <th>3</th>\n",
       "      <td>amdahl</td>\n",
       "      <td>470v/7b</td>\n",
       "      <td>29</td>\n",
       "      <td>8000</td>\n",
       "      <td>32000</td>\n",
       "      <td>32</td>\n",
       "      <td>8</td>\n",
       "      <td>32</td>\n",
       "      <td>172</td>\n",
       "      <td>253</td>\n",
       "    </tr>\n",
       "    <tr>\n",
       "      <th>4</th>\n",
       "      <td>amdahl</td>\n",
       "      <td>470v/7c</td>\n",
       "      <td>29</td>\n",
       "      <td>8000</td>\n",
       "      <td>16000</td>\n",
       "      <td>32</td>\n",
       "      <td>8</td>\n",
       "      <td>16</td>\n",
       "      <td>132</td>\n",
       "      <td>132</td>\n",
       "    </tr>\n",
       "  </tbody>\n",
       "</table>\n",
       "</div>"
      ],
      "text/plain": [
       "  vendor_name    model  myct  mmin   mmax  cach  chmin  chmax  prp  erp\n",
       "0     adviser    32/60   125   256   6000   256     16    128  198  199\n",
       "1      amdahl   470v/7    29  8000  32000    32      8     32  269  253\n",
       "2      amdahl  470v/7a    29  8000  32000    32      8     32  220  253\n",
       "3      amdahl  470v/7b    29  8000  32000    32      8     32  172  253\n",
       "4      amdahl  470v/7c    29  8000  16000    32      8     16  132  132"
      ]
     },
     "execution_count": 42,
     "metadata": {},
     "output_type": "execute_result"
    }
   ],
   "source": [
    "# looking at the dataset\n",
    "dataset.head()"
   ]
  },
  {
   "cell_type": "markdown",
   "metadata": {},
   "source": [
    "Our example dataset contains:\n",
    "\n",
    "- `vendor_name`: Name of the vendor\n",
    "- `model`: model id\n",
    "- `myct`: machine cycle time in nanoseconds\n",
    "- `mmin`: minimum main memory in kilobytes\n",
    "- `mmax`: maximum main memory in kilobytes\n",
    "- `cach`: cache memory in kilobytes\n",
    "- `chmin`: minimum channels in units\n",
    "- `chmax`: maximum channels in units\n",
    "- `prp`: published relative performance\n",
    "- `erp`: estimated relative performance from the original article"
   ]
  },
  {
   "cell_type": "markdown",
   "metadata": {},
   "source": [
    "---"
   ]
  },
  {
   "cell_type": "markdown",
   "metadata": {},
   "source": [
    "### Simple Figure with a line"
   ]
  },
  {
   "cell_type": "markdown",
   "metadata": {},
   "source": [
    "Basic plotting with lines, circles, etc. is a simple task when using Bokeh.   \n",
    "By calling the `line` method of a given figure, we can add a line based on x and y coordinates in our visualization."
   ]
  },
  {
   "cell_type": "markdown",
   "metadata": {},
   "source": [
    "**Note**:   \n",
    "If we simply want to plot our entries with the given index, we can create a new column and assign the dataset index in order to nicely access it."
   ]
  },
  {
   "cell_type": "code",
   "execution_count": 43,
   "metadata": {},
   "outputs": [],
   "source": [
    "# adding an index column to use it for the x-axis\n",
    "dataset['index'] = dataset.index"
   ]
  },
  {
   "cell_type": "code",
   "execution_count": 62,
   "metadata": {},
   "outputs": [
    {
     "data": {
      "text/html": [
       "\n",
       "\n",
       "\n",
       "\n",
       "\n",
       "\n",
       "  <div class=\"bk-root\" id=\"40fa8af4-6419-41de-ad91-9b27d468f335\" data-root-id=\"7037\"></div>\n"
      ]
     },
     "metadata": {},
     "output_type": "display_data"
    },
    {
     "data": {
      "application/javascript": [
       "(function(root) {\n",
       "  function embed_document(root) {\n",
       "    \n",
       "  var docs_json = {\"e1d16ded-bd11-4046-b219-53dc2204d83e\":{\"roots\":{\"references\":[{\"attributes\":{\"below\":[{\"id\":\"7048\",\"type\":\"LinearAxis\"}],\"center\":[{\"id\":\"7052\",\"type\":\"Grid\"},{\"id\":\"7057\",\"type\":\"Grid\"}],\"left\":[{\"id\":\"7053\",\"type\":\"LinearAxis\"}],\"renderers\":[{\"id\":\"7074\",\"type\":\"GlyphRenderer\"}],\"title\":{\"id\":\"7038\",\"type\":\"Title\"},\"toolbar\":{\"id\":\"7064\",\"type\":\"Toolbar\"},\"x_range\":{\"id\":\"7040\",\"type\":\"DataRange1d\"},\"x_scale\":{\"id\":\"7044\",\"type\":\"LinearScale\"},\"y_range\":{\"id\":\"7042\",\"type\":\"DataRange1d\"},\"y_scale\":{\"id\":\"7046\",\"type\":\"LinearScale\"}},\"id\":\"7037\",\"subtype\":\"Figure\",\"type\":\"Plot\"},{\"attributes\":{\"line_alpha\":0.1,\"line_color\":\"#1f77b4\",\"line_width\":5,\"x\":{\"field\":\"x\"},\"y\":{\"field\":\"y\"}},\"id\":\"7073\",\"type\":\"Line\"},{\"attributes\":{\"bottom_units\":\"screen\",\"fill_alpha\":{\"value\":0.5},\"fill_color\":{\"value\":\"lightgrey\"},\"left_units\":\"screen\",\"level\":\"overlay\",\"line_alpha\":{\"value\":1.0},\"line_color\":{\"value\":\"black\"},\"line_dash\":[4,4],\"line_width\":{\"value\":2},\"render_mode\":\"css\",\"right_units\":\"screen\",\"top_units\":\"screen\"},\"id\":\"7307\",\"type\":\"BoxAnnotation\"},{\"attributes\":{},\"id\":\"7046\",\"type\":\"LinearScale\"},{\"attributes\":{\"data_source\":{\"id\":\"7071\",\"type\":\"ColumnDataSource\"},\"glyph\":{\"id\":\"7072\",\"type\":\"Line\"},\"hover_glyph\":null,\"muted_glyph\":null,\"nonselection_glyph\":{\"id\":\"7073\",\"type\":\"Line\"},\"selection_glyph\":null,\"view\":{\"id\":\"7075\",\"type\":\"CDSView\"}},\"id\":\"7074\",\"type\":\"GlyphRenderer\"},{\"attributes\":{},\"id\":\"7058\",\"type\":\"PanTool\"},{\"attributes\":{},\"id\":\"7059\",\"type\":\"WheelZoomTool\"},{\"attributes\":{},\"id\":\"7305\",\"type\":\"Selection\"},{\"attributes\":{\"callback\":null,\"data\":{\"x\":[0,1,2,3,4,5,6,7,8,9,10,11,12,13,14,15,16,17,18,19,20,21,22,23,24,25,26,27,28,29,30,31,32,33,34,35,36,37,38,39,40,41,42,43,44,45,46,47,48,49,50,51,52,53,54,55,56,57,58,59,60,61,62,63,64,65,66,67,68,69,70,71,72,73,74,75,76,77,78,79,80,81,82,83,84,85,86,87,88,89,90,91,92,93,94,95,96,97,98,99,100,101,102,103,104,105,106,107,108,109,110,111,112,113,114,115,116,117,118,119,120,121,122,123,124,125,126,127,128,129,130,131,132,133,134,135,136,137,138,139,140,141,142,143,144,145,146,147,148,149,150,151,152,153,154,155,156,157,158,159,160,161,162,163,164,165,166,167,168,169,170,171,172,173,174,175,176,177,178,179,180,181,182,183,184,185,186,187,188,189,190,191,192,193,194,195,196,197,198,199,200,201,202,203,204,205,206,207,208],\"y\":[256,32,32,32,32,64,64,64,64,128,0,4,65,65,0,0,8,0,0,142,0,0,0,0,0,4,0,4,4,4,131,131,30,30,30,30,8,8,8,8,8,8,8,8,9,9,8,0,4,8,0,0,16,0,16,16,16,0,0,0,0,0,0,64,64,128,0,0,0,8,8,8,0,0,6,6,0,6,6,6,0,8,8,0,0,0,0,8,32,32,32,32,8,1,64,64,64,0,0,0,0,16,0,0,0,0,0,0,0,4,8,0,8,8,8,16,16,2,8,16,8,32,0,0,0,0,8,8,24,24,48,0,24,24,12,24,24,0,16,2,32,32,4,16,32,64,64,64,64,16,32,64,64,128,32,64,256,0,0,0,0,0,0,0,0,32,32,64,160,128,0,0,64,0,0,1,2,2,8,16,32,8,8,8,16,16,32,8,32,64,32,64,128,32,24,48,112,112,96,128,0,0,0,0,0,32,0,32,0]},\"selected\":{\"id\":\"7305\",\"type\":\"Selection\"},\"selection_policy\":{\"id\":\"7306\",\"type\":\"UnionRenderers\"}},\"id\":\"7071\",\"type\":\"ColumnDataSource\"},{\"attributes\":{\"callback\":null},\"id\":\"7040\",\"type\":\"DataRange1d\"},{\"attributes\":{\"ticker\":{\"id\":\"7049\",\"type\":\"BasicTicker\"}},\"id\":\"7052\",\"type\":\"Grid\"},{\"attributes\":{\"source\":{\"id\":\"7071\",\"type\":\"ColumnDataSource\"}},\"id\":\"7075\",\"type\":\"CDSView\"},{\"attributes\":{},\"id\":\"7061\",\"type\":\"SaveTool\"},{\"attributes\":{},\"id\":\"7044\",\"type\":\"LinearScale\"},{\"attributes\":{\"text\":\"Cache per Hardware\"},\"id\":\"7038\",\"type\":\"Title\"},{\"attributes\":{\"callback\":null},\"id\":\"7042\",\"type\":\"DataRange1d\"},{\"attributes\":{\"active_drag\":\"auto\",\"active_inspect\":\"auto\",\"active_multi\":null,\"active_scroll\":\"auto\",\"active_tap\":\"auto\",\"tools\":[{\"id\":\"7058\",\"type\":\"PanTool\"},{\"id\":\"7059\",\"type\":\"WheelZoomTool\"},{\"id\":\"7060\",\"type\":\"BoxZoomTool\"},{\"id\":\"7061\",\"type\":\"SaveTool\"},{\"id\":\"7062\",\"type\":\"ResetTool\"},{\"id\":\"7063\",\"type\":\"HelpTool\"}]},\"id\":\"7064\",\"type\":\"Toolbar\"},{\"attributes\":{},\"id\":\"7306\",\"type\":\"UnionRenderers\"},{\"attributes\":{},\"id\":\"7301\",\"type\":\"BasicTickFormatter\"},{\"attributes\":{},\"id\":\"7054\",\"type\":\"BasicTicker\"},{\"attributes\":{\"dimension\":1,\"ticker\":{\"id\":\"7054\",\"type\":\"BasicTicker\"}},\"id\":\"7057\",\"type\":\"Grid\"},{\"attributes\":{\"overlay\":{\"id\":\"7307\",\"type\":\"BoxAnnotation\"}},\"id\":\"7060\",\"type\":\"BoxZoomTool\"},{\"attributes\":{\"axis_label\":\"Hardware index\",\"formatter\":{\"id\":\"7301\",\"type\":\"BasicTickFormatter\"},\"ticker\":{\"id\":\"7049\",\"type\":\"BasicTicker\"}},\"id\":\"7048\",\"type\":\"LinearAxis\"},{\"attributes\":{},\"id\":\"7303\",\"type\":\"BasicTickFormatter\"},{\"attributes\":{},\"id\":\"7062\",\"type\":\"ResetTool\"},{\"attributes\":{\"axis_label\":\"Cache Memory\",\"formatter\":{\"id\":\"7303\",\"type\":\"BasicTickFormatter\"},\"ticker\":{\"id\":\"7054\",\"type\":\"BasicTicker\"}},\"id\":\"7053\",\"type\":\"LinearAxis\"},{\"attributes\":{},\"id\":\"7063\",\"type\":\"HelpTool\"},{\"attributes\":{\"line_color\":\"#1f77b4\",\"line_width\":5,\"x\":{\"field\":\"x\"},\"y\":{\"field\":\"y\"}},\"id\":\"7072\",\"type\":\"Line\"},{\"attributes\":{},\"id\":\"7049\",\"type\":\"BasicTicker\"}],\"root_ids\":[\"7037\"]},\"title\":\"Bokeh Application\",\"version\":\"1.4.0\"}};\n",
       "  var render_items = [{\"docid\":\"e1d16ded-bd11-4046-b219-53dc2204d83e\",\"roots\":{\"7037\":\"40fa8af4-6419-41de-ad91-9b27d468f335\"}}];\n",
       "  root.Bokeh.embed.embed_items_notebook(docs_json, render_items);\n",
       "\n",
       "  }\n",
       "  if (root.Bokeh !== undefined) {\n",
       "    embed_document(root);\n",
       "  } else {\n",
       "    var attempts = 0;\n",
       "    var timer = setInterval(function(root) {\n",
       "      if (root.Bokeh !== undefined) {\n",
       "        clearInterval(timer);\n",
       "        embed_document(root);\n",
       "      } else {\n",
       "        attempts++;\n",
       "        if (attempts > 100) {\n",
       "          clearInterval(timer);\n",
       "          console.log(\"Bokeh: ERROR: Unable to run BokehJS code because BokehJS library is missing\");\n",
       "        }\n",
       "      }\n",
       "    }, 10, root)\n",
       "  }\n",
       "})(window);"
      ],
      "application/vnd.bokehjs_exec.v0+json": ""
     },
     "metadata": {
      "application/vnd.bokehjs_exec.v0+json": {
       "id": "7037"
      }
     },
     "output_type": "display_data"
    }
   ],
   "source": [
    "# plotting the cache memory levels as line\n",
    "plot = figure(title='Cache per Hardware', x_axis_label='Hardware index', y_axis_label='Cache Memory')\n",
    "plot.line(dataset['index'], dataset['cach'], line_width=5)\n",
    "\n",
    "show(plot)"
   ]
  },
  {
   "cell_type": "markdown",
   "metadata": {},
   "source": [
    "### Scatter plot"
   ]
  },
  {
   "cell_type": "markdown",
   "metadata": {},
   "source": [
    "Scatter plots can be used the same as line plots. It always depends on the scenario and data we are looking at which one should be used.   \n",
    "Please refer back to the second chapter about different plots and data for this information."
   ]
  },
  {
   "cell_type": "code",
   "execution_count": 45,
   "metadata": {},
   "outputs": [
    {
     "data": {
      "text/html": [
       "\n",
       "\n",
       "\n",
       "\n",
       "\n",
       "\n",
       "  <div class=\"bk-root\" id=\"7b748df8-55f5-40eb-95ea-7604a63ab03d\" data-root-id=\"3616\"></div>\n"
      ]
     },
     "metadata": {},
     "output_type": "display_data"
    },
    {
     "data": {
      "application/javascript": [
       "(function(root) {\n",
       "  function embed_document(root) {\n",
       "    \n",
       "  var docs_json = {\"e9fe06fb-b248-4450-977c-30fbe2092993\":{\"roots\":{\"references\":[{\"attributes\":{\"below\":[{\"id\":\"3627\",\"type\":\"LinearAxis\"}],\"center\":[{\"id\":\"3631\",\"type\":\"Grid\"},{\"id\":\"3636\",\"type\":\"Grid\"}],\"left\":[{\"id\":\"3632\",\"type\":\"LinearAxis\"}],\"renderers\":[{\"id\":\"3653\",\"type\":\"GlyphRenderer\"}],\"title\":{\"id\":\"3617\",\"type\":\"Title\"},\"toolbar\":{\"id\":\"3643\",\"type\":\"Toolbar\"},\"x_range\":{\"id\":\"3619\",\"type\":\"DataRange1d\"},\"x_scale\":{\"id\":\"3623\",\"type\":\"LinearScale\"},\"y_range\":{\"id\":\"3621\",\"type\":\"DataRange1d\"},\"y_scale\":{\"id\":\"3625\",\"type\":\"LinearScale\"}},\"id\":\"3616\",\"subtype\":\"Figure\",\"type\":\"Plot\"},{\"attributes\":{\"overlay\":{\"id\":\"3790\",\"type\":\"BoxAnnotation\"}},\"id\":\"3639\",\"type\":\"BoxZoomTool\"},{\"attributes\":{\"active_drag\":\"auto\",\"active_inspect\":\"auto\",\"active_multi\":null,\"active_scroll\":\"auto\",\"active_tap\":\"auto\",\"tools\":[{\"id\":\"3637\",\"type\":\"PanTool\"},{\"id\":\"3638\",\"type\":\"WheelZoomTool\"},{\"id\":\"3639\",\"type\":\"BoxZoomTool\"},{\"id\":\"3640\",\"type\":\"SaveTool\"},{\"id\":\"3641\",\"type\":\"ResetTool\"},{\"id\":\"3642\",\"type\":\"HelpTool\"}]},\"id\":\"3643\",\"type\":\"Toolbar\"},{\"attributes\":{},\"id\":\"3640\",\"type\":\"SaveTool\"},{\"attributes\":{},\"id\":\"3641\",\"type\":\"ResetTool\"},{\"attributes\":{},\"id\":\"3789\",\"type\":\"UnionRenderers\"},{\"attributes\":{\"axis_label\":\"Hardware\",\"formatter\":{\"id\":\"3784\",\"type\":\"BasicTickFormatter\"},\"ticker\":{\"id\":\"3628\",\"type\":\"BasicTicker\"}},\"id\":\"3627\",\"type\":\"LinearAxis\"},{\"attributes\":{\"bottom_units\":\"screen\",\"fill_alpha\":{\"value\":0.5},\"fill_color\":{\"value\":\"lightgrey\"},\"left_units\":\"screen\",\"level\":\"overlay\",\"line_alpha\":{\"value\":1.0},\"line_color\":{\"value\":\"black\"},\"line_dash\":[4,4],\"line_width\":{\"value\":2},\"render_mode\":\"css\",\"right_units\":\"screen\",\"top_units\":\"screen\"},\"id\":\"3790\",\"type\":\"BoxAnnotation\"},{\"attributes\":{\"fill_color\":{\"value\":\"red\"},\"line_color\":{\"value\":\"red\"},\"size\":{\"units\":\"screen\",\"value\":5},\"x\":{\"field\":\"x\"},\"y\":{\"field\":\"y\"}},\"id\":\"3651\",\"type\":\"Scatter\"},{\"attributes\":{\"ticker\":{\"id\":\"3628\",\"type\":\"BasicTicker\"}},\"id\":\"3631\",\"type\":\"Grid\"},{\"attributes\":{},\"id\":\"3637\",\"type\":\"PanTool\"},{\"attributes\":{},\"id\":\"3638\",\"type\":\"WheelZoomTool\"},{\"attributes\":{\"fill_alpha\":{\"value\":0.1},\"fill_color\":{\"value\":\"#1f77b4\"},\"line_alpha\":{\"value\":0.1},\"line_color\":{\"value\":\"#1f77b4\"},\"size\":{\"units\":\"screen\",\"value\":5},\"x\":{\"field\":\"x\"},\"y\":{\"field\":\"y\"}},\"id\":\"3652\",\"type\":\"Scatter\"},{\"attributes\":{\"callback\":null,\"data\":{\"x\":[0,1,2,3,4,5,6,7,8,9,10,11,12,13,14,15,16,17,18,19,20,21,22,23,24,25,26,27,28,29,30,31,32,33,34,35,36,37,38,39,40,41,42,43,44,45,46,47,48,49,50,51,52,53,54,55,56,57,58,59,60,61,62,63,64,65,66,67,68,69,70,71,72,73,74,75,76,77,78,79,80,81,82,83,84,85,86,87,88,89,90,91,92,93,94,95,96,97,98,99,100,101,102,103,104,105,106,107,108,109,110,111,112,113,114,115,116,117,118,119,120,121,122,123,124,125,126,127,128,129,130,131,132,133,134,135,136,137,138,139,140,141,142,143,144,145,146,147,148,149,150,151,152,153,154,155,156,157,158,159,160,161,162,163,164,165,166,167,168,169,170,171,172,173,174,175,176,177,178,179,180,181,182,183,184,185,186,187,188,189,190,191,192,193,194,195,196,197,198,199,200,201,202,203,204,205,206,207,208],\"y\":[256,32,32,32,32,64,64,64,64,128,0,4,65,65,0,0,8,0,0,142,0,0,0,0,0,4,0,4,4,4,131,131,30,30,30,30,8,8,8,8,8,8,8,8,9,9,8,0,4,8,0,0,16,0,16,16,16,0,0,0,0,0,0,64,64,128,0,0,0,8,8,8,0,0,6,6,0,6,6,6,0,8,8,0,0,0,0,8,32,32,32,32,8,1,64,64,64,0,0,0,0,16,0,0,0,0,0,0,0,4,8,0,8,8,8,16,16,2,8,16,8,32,0,0,0,0,8,8,24,24,48,0,24,24,12,24,24,0,16,2,32,32,4,16,32,64,64,64,64,16,32,64,64,128,32,64,256,0,0,0,0,0,0,0,0,32,32,64,160,128,0,0,64,0,0,1,2,2,8,16,32,8,8,8,16,16,32,8,32,64,32,64,128,32,24,48,112,112,96,128,0,0,0,0,0,32,0,32,0]},\"selected\":{\"id\":\"3788\",\"type\":\"Selection\"},\"selection_policy\":{\"id\":\"3789\",\"type\":\"UnionRenderers\"}},\"id\":\"3650\",\"type\":\"ColumnDataSource\"},{\"attributes\":{\"callback\":null},\"id\":\"3619\",\"type\":\"DataRange1d\"},{\"attributes\":{\"dimension\":1,\"ticker\":{\"id\":\"3633\",\"type\":\"BasicTicker\"}},\"id\":\"3636\",\"type\":\"Grid\"},{\"attributes\":{\"source\":{\"id\":\"3650\",\"type\":\"ColumnDataSource\"}},\"id\":\"3654\",\"type\":\"CDSView\"},{\"attributes\":{},\"id\":\"3786\",\"type\":\"BasicTickFormatter\"},{\"attributes\":{\"axis_label\":\"Cache Memory\",\"formatter\":{\"id\":\"3786\",\"type\":\"BasicTickFormatter\"},\"ticker\":{\"id\":\"3633\",\"type\":\"BasicTicker\"}},\"id\":\"3632\",\"type\":\"LinearAxis\"},{\"attributes\":{},\"id\":\"3784\",\"type\":\"BasicTickFormatter\"},{\"attributes\":{},\"id\":\"3633\",\"type\":\"BasicTicker\"},{\"attributes\":{},\"id\":\"3788\",\"type\":\"Selection\"},{\"attributes\":{},\"id\":\"3625\",\"type\":\"LinearScale\"},{\"attributes\":{},\"id\":\"3628\",\"type\":\"BasicTicker\"},{\"attributes\":{},\"id\":\"3642\",\"type\":\"HelpTool\"},{\"attributes\":{\"text\":\"Cache per Hardware\"},\"id\":\"3617\",\"type\":\"Title\"},{\"attributes\":{},\"id\":\"3623\",\"type\":\"LinearScale\"},{\"attributes\":{\"data_source\":{\"id\":\"3650\",\"type\":\"ColumnDataSource\"},\"glyph\":{\"id\":\"3651\",\"type\":\"Scatter\"},\"hover_glyph\":null,\"muted_glyph\":null,\"nonselection_glyph\":{\"id\":\"3652\",\"type\":\"Scatter\"},\"selection_glyph\":null,\"view\":{\"id\":\"3654\",\"type\":\"CDSView\"}},\"id\":\"3653\",\"type\":\"GlyphRenderer\"},{\"attributes\":{\"callback\":null},\"id\":\"3621\",\"type\":\"DataRange1d\"}],\"root_ids\":[\"3616\"]},\"title\":\"Bokeh Application\",\"version\":\"1.4.0\"}};\n",
       "  var render_items = [{\"docid\":\"e9fe06fb-b248-4450-977c-30fbe2092993\",\"roots\":{\"3616\":\"7b748df8-55f5-40eb-95ea-7604a63ab03d\"}}];\n",
       "  root.Bokeh.embed.embed_items_notebook(docs_json, render_items);\n",
       "\n",
       "  }\n",
       "  if (root.Bokeh !== undefined) {\n",
       "    embed_document(root);\n",
       "  } else {\n",
       "    var attempts = 0;\n",
       "    var timer = setInterval(function(root) {\n",
       "      if (root.Bokeh !== undefined) {\n",
       "        clearInterval(timer);\n",
       "        embed_document(root);\n",
       "      } else {\n",
       "        attempts++;\n",
       "        if (attempts > 100) {\n",
       "          clearInterval(timer);\n",
       "          console.log(\"Bokeh: ERROR: Unable to run BokehJS code because BokehJS library is missing\");\n",
       "        }\n",
       "      }\n",
       "    }, 10, root)\n",
       "  }\n",
       "})(window);"
      ],
      "application/vnd.bokehjs_exec.v0+json": ""
     },
     "metadata": {
      "application/vnd.bokehjs_exec.v0+json": {
       "id": "3616"
      }
     },
     "output_type": "display_data"
    }
   ],
   "source": [
    "# plotting the hardware cache as dots\n",
    "plot = figure(title='Cache per Hardware', x_axis_label='Hardware', y_axis_label='Cache Memory')\n",
    "plot.scatter(dataset['index'], dataset['cach'], size=5, color='red')\n",
    "\n",
    "show(plot)"
   ]
  },
  {
   "cell_type": "markdown",
   "metadata": {},
   "source": [
    "**Note**:   \n",
    "We can provide a `color` argument with one of the pre-defined colors to quickly assign different colors to our plotted glyphs."
   ]
  },
  {
   "cell_type": "markdown",
   "metadata": {},
   "source": [
    "### Color Mappers"
   ]
  },
  {
   "cell_type": "markdown",
   "metadata": {},
   "source": [
    "Color mappers can map specific values to a given color in the selected spectrum.   \n",
    "By providing the minimum and maximum value for a variable, we define the range in which colors are returned."
   ]
  },
  {
   "cell_type": "code",
   "execution_count": 46,
   "metadata": {},
   "outputs": [
    {
     "data": {
      "text/html": [
       "\n",
       "\n",
       "\n",
       "\n",
       "\n",
       "\n",
       "  <div class=\"bk-root\" id=\"8e3973a5-cc14-4f7d-90e5-ce81018bae8f\" data-root-id=\"3840\"></div>\n"
      ]
     },
     "metadata": {},
     "output_type": "display_data"
    },
    {
     "data": {
      "application/javascript": [
       "(function(root) {\n",
       "  function embed_document(root) {\n",
       "    \n",
       "  var docs_json = {\"c8c6ac6c-91be-411d-aa11-7aef56f4ac56\":{\"roots\":{\"references\":[{\"attributes\":{\"below\":[{\"id\":\"3851\",\"type\":\"LinearAxis\"}],\"center\":[{\"id\":\"3855\",\"type\":\"Grid\"},{\"id\":\"3860\",\"type\":\"Grid\"}],\"left\":[{\"id\":\"3856\",\"type\":\"LinearAxis\"}],\"renderers\":[{\"id\":\"3877\",\"type\":\"GlyphRenderer\"}],\"title\":{\"id\":\"3841\",\"type\":\"Title\"},\"toolbar\":{\"id\":\"3867\",\"type\":\"Toolbar\"},\"x_range\":{\"id\":\"3843\",\"type\":\"DataRange1d\"},\"x_scale\":{\"id\":\"3847\",\"type\":\"LinearScale\"},\"y_range\":{\"id\":\"3845\",\"type\":\"DataRange1d\"},\"y_scale\":{\"id\":\"3849\",\"type\":\"LinearScale\"}},\"id\":\"3840\",\"subtype\":\"Figure\",\"type\":\"Plot\"},{\"attributes\":{},\"id\":\"3866\",\"type\":\"HelpTool\"},{\"attributes\":{},\"id\":\"3847\",\"type\":\"LinearScale\"},{\"attributes\":{},\"id\":\"3857\",\"type\":\"BasicTicker\"},{\"attributes\":{\"overlay\":{\"id\":\"4022\",\"type\":\"BoxAnnotation\"}},\"id\":\"3863\",\"type\":\"BoxZoomTool\"},{\"attributes\":{\"ticker\":{\"id\":\"3852\",\"type\":\"BasicTicker\"}},\"id\":\"3855\",\"type\":\"Grid\"},{\"attributes\":{\"fill_alpha\":{\"value\":0.1},\"fill_color\":{\"value\":\"#1f77b4\"},\"line_alpha\":{\"value\":0.1},\"line_color\":{\"value\":\"#1f77b4\"},\"size\":{\"units\":\"screen\",\"value\":10},\"x\":{\"field\":\"x\"},\"y\":{\"field\":\"y\"}},\"id\":\"3876\",\"type\":\"Scatter\"},{\"attributes\":{\"dimension\":1,\"ticker\":{\"id\":\"3857\",\"type\":\"BasicTicker\"}},\"id\":\"3860\",\"type\":\"Grid\"},{\"attributes\":{\"callback\":null},\"id\":\"3845\",\"type\":\"DataRange1d\"},{\"attributes\":{},\"id\":\"3864\",\"type\":\"SaveTool\"},{\"attributes\":{\"callback\":null},\"id\":\"3843\",\"type\":\"DataRange1d\"},{\"attributes\":{\"high\":256,\"low\":0,\"palette\":[\"#000003\",\"#000004\",\"#000006\",\"#010007\",\"#010109\",\"#01010B\",\"#02020D\",\"#02020F\",\"#030311\",\"#040313\",\"#040415\",\"#050417\",\"#060519\",\"#07051B\",\"#08061D\",\"#09071F\",\"#0A0722\",\"#0B0824\",\"#0C0926\",\"#0D0A28\",\"#0E0A2A\",\"#0F0B2C\",\"#100C2F\",\"#110C31\",\"#120D33\",\"#140D35\",\"#150E38\",\"#160E3A\",\"#170F3C\",\"#180F3F\",\"#1A1041\",\"#1B1044\",\"#1C1046\",\"#1E1049\",\"#1F114B\",\"#20114D\",\"#221150\",\"#231152\",\"#251155\",\"#261157\",\"#281159\",\"#2A115C\",\"#2B115E\",\"#2D1060\",\"#2F1062\",\"#301065\",\"#321067\",\"#341068\",\"#350F6A\",\"#370F6C\",\"#390F6E\",\"#3B0F6F\",\"#3C0F71\",\"#3E0F72\",\"#400F73\",\"#420F74\",\"#430F75\",\"#450F76\",\"#470F77\",\"#481078\",\"#4A1079\",\"#4B1079\",\"#4D117A\",\"#4F117B\",\"#50127B\",\"#52127C\",\"#53137C\",\"#55137D\",\"#57147D\",\"#58157E\",\"#5A157E\",\"#5B167E\",\"#5D177E\",\"#5E177F\",\"#60187F\",\"#61187F\",\"#63197F\",\"#651A80\",\"#661A80\",\"#681B80\",\"#691C80\",\"#6B1C80\",\"#6C1D80\",\"#6E1E81\",\"#6F1E81\",\"#711F81\",\"#731F81\",\"#742081\",\"#762181\",\"#772181\",\"#792281\",\"#7A2281\",\"#7C2381\",\"#7E2481\",\"#7F2481\",\"#812581\",\"#822581\",\"#842681\",\"#852681\",\"#872781\",\"#892881\",\"#8A2881\",\"#8C2980\",\"#8D2980\",\"#8F2A80\",\"#912A80\",\"#922B80\",\"#942B80\",\"#952C80\",\"#972C7F\",\"#992D7F\",\"#9A2D7F\",\"#9C2E7F\",\"#9E2E7E\",\"#9F2F7E\",\"#A12F7E\",\"#A3307E\",\"#A4307D\",\"#A6317D\",\"#A7317D\",\"#A9327C\",\"#AB337C\",\"#AC337B\",\"#AE347B\",\"#B0347B\",\"#B1357A\",\"#B3357A\",\"#B53679\",\"#B63679\",\"#B83778\",\"#B93778\",\"#BB3877\",\"#BD3977\",\"#BE3976\",\"#C03A75\",\"#C23A75\",\"#C33B74\",\"#C53C74\",\"#C63C73\",\"#C83D72\",\"#CA3E72\",\"#CB3E71\",\"#CD3F70\",\"#CE4070\",\"#D0416F\",\"#D1426E\",\"#D3426D\",\"#D4436D\",\"#D6446C\",\"#D7456B\",\"#D9466A\",\"#DA4769\",\"#DC4869\",\"#DD4968\",\"#DE4A67\",\"#E04B66\",\"#E14C66\",\"#E24D65\",\"#E44E64\",\"#E55063\",\"#E65162\",\"#E75262\",\"#E85461\",\"#EA5560\",\"#EB5660\",\"#EC585F\",\"#ED595F\",\"#EE5B5E\",\"#EE5D5D\",\"#EF5E5D\",\"#F0605D\",\"#F1615C\",\"#F2635C\",\"#F3655C\",\"#F3675B\",\"#F4685B\",\"#F56A5B\",\"#F56C5B\",\"#F66E5B\",\"#F6705B\",\"#F7715B\",\"#F7735C\",\"#F8755C\",\"#F8775C\",\"#F9795C\",\"#F97B5D\",\"#F97D5D\",\"#FA7F5E\",\"#FA805E\",\"#FA825F\",\"#FB8460\",\"#FB8660\",\"#FB8861\",\"#FB8A62\",\"#FC8C63\",\"#FC8E63\",\"#FC9064\",\"#FC9265\",\"#FC9366\",\"#FD9567\",\"#FD9768\",\"#FD9969\",\"#FD9B6A\",\"#FD9D6B\",\"#FD9F6C\",\"#FDA16E\",\"#FDA26F\",\"#FDA470\",\"#FEA671\",\"#FEA873\",\"#FEAA74\",\"#FEAC75\",\"#FEAE76\",\"#FEAF78\",\"#FEB179\",\"#FEB37B\",\"#FEB57C\",\"#FEB77D\",\"#FEB97F\",\"#FEBB80\",\"#FEBC82\",\"#FEBE83\",\"#FEC085\",\"#FEC286\",\"#FEC488\",\"#FEC689\",\"#FEC78B\",\"#FEC98D\",\"#FECB8E\",\"#FDCD90\",\"#FDCF92\",\"#FDD193\",\"#FDD295\",\"#FDD497\",\"#FDD698\",\"#FDD89A\",\"#FDDA9C\",\"#FDDC9D\",\"#FDDD9F\",\"#FDDFA1\",\"#FDE1A3\",\"#FCE3A5\",\"#FCE5A6\",\"#FCE6A8\",\"#FCE8AA\",\"#FCEAAC\",\"#FCECAE\",\"#FCEEB0\",\"#FCF0B1\",\"#FCF1B3\",\"#FCF3B5\",\"#FCF5B7\",\"#FBF7B9\",\"#FBF9BB\",\"#FBFABD\",\"#FBFCBF\"]},\"id\":\"3839\",\"type\":\"LinearColorMapper\"},{\"attributes\":{},\"id\":\"3861\",\"type\":\"PanTool\"},{\"attributes\":{\"callback\":null,\"data\":{\"x\":[0,1,2,3,4,5,6,7,8,9,10,11,12,13,14,15,16,17,18,19,20,21,22,23,24,25,26,27,28,29,30,31,32,33,34,35,36,37,38,39,40,41,42,43,44,45,46,47,48,49,50,51,52,53,54,55,56,57,58,59,60,61,62,63,64,65,66,67,68,69,70,71,72,73,74,75,76,77,78,79,80,81,82,83,84,85,86,87,88,89,90,91,92,93,94,95,96,97,98,99,100,101,102,103,104,105,106,107,108,109,110,111,112,113,114,115,116,117,118,119,120,121,122,123,124,125,126,127,128,129,130,131,132,133,134,135,136,137,138,139,140,141,142,143,144,145,146,147,148,149,150,151,152,153,154,155,156,157,158,159,160,161,162,163,164,165,166,167,168,169,170,171,172,173,174,175,176,177,178,179,180,181,182,183,184,185,186,187,188,189,190,191,192,193,194,195,196,197,198,199,200,201,202,203,204,205,206,207,208],\"y\":[256,32,32,32,32,64,64,64,64,128,0,4,65,65,0,0,8,0,0,142,0,0,0,0,0,4,0,4,4,4,131,131,30,30,30,30,8,8,8,8,8,8,8,8,9,9,8,0,4,8,0,0,16,0,16,16,16,0,0,0,0,0,0,64,64,128,0,0,0,8,8,8,0,0,6,6,0,6,6,6,0,8,8,0,0,0,0,8,32,32,32,32,8,1,64,64,64,0,0,0,0,16,0,0,0,0,0,0,0,4,8,0,8,8,8,16,16,2,8,16,8,32,0,0,0,0,8,8,24,24,48,0,24,24,12,24,24,0,16,2,32,32,4,16,32,64,64,64,64,16,32,64,64,128,32,64,256,0,0,0,0,0,0,0,0,32,32,64,160,128,0,0,64,0,0,1,2,2,8,16,32,8,8,8,16,16,32,8,32,64,32,64,128,32,24,48,112,112,96,128,0,0,0,0,0,32,0,32,0]},\"selected\":{\"id\":\"4020\",\"type\":\"Selection\"},\"selection_policy\":{\"id\":\"4021\",\"type\":\"UnionRenderers\"}},\"id\":\"3874\",\"type\":\"ColumnDataSource\"},{\"attributes\":{},\"id\":\"4018\",\"type\":\"BasicTickFormatter\"},{\"attributes\":{\"bottom_units\":\"screen\",\"fill_alpha\":{\"value\":0.5},\"fill_color\":{\"value\":\"lightgrey\"},\"left_units\":\"screen\",\"level\":\"overlay\",\"line_alpha\":{\"value\":1.0},\"line_color\":{\"value\":\"black\"},\"line_dash\":[4,4],\"line_width\":{\"value\":2},\"render_mode\":\"css\",\"right_units\":\"screen\",\"top_units\":\"screen\"},\"id\":\"4022\",\"type\":\"BoxAnnotation\"},{\"attributes\":{\"fill_color\":{\"field\":\"y\",\"transform\":{\"id\":\"3839\",\"type\":\"LinearColorMapper\"}},\"line_color\":{\"field\":\"y\",\"transform\":{\"id\":\"3839\",\"type\":\"LinearColorMapper\"}},\"size\":{\"units\":\"screen\",\"value\":10},\"x\":{\"field\":\"x\"},\"y\":{\"field\":\"y\"}},\"id\":\"3875\",\"type\":\"Scatter\"},{\"attributes\":{},\"id\":\"4020\",\"type\":\"Selection\"},{\"attributes\":{\"active_drag\":\"auto\",\"active_inspect\":\"auto\",\"active_multi\":null,\"active_scroll\":\"auto\",\"active_tap\":\"auto\",\"tools\":[{\"id\":\"3861\",\"type\":\"PanTool\"},{\"id\":\"3862\",\"type\":\"WheelZoomTool\"},{\"id\":\"3863\",\"type\":\"BoxZoomTool\"},{\"id\":\"3864\",\"type\":\"SaveTool\"},{\"id\":\"3865\",\"type\":\"ResetTool\"},{\"id\":\"3866\",\"type\":\"HelpTool\"}]},\"id\":\"3867\",\"type\":\"Toolbar\"},{\"attributes\":{},\"id\":\"3862\",\"type\":\"WheelZoomTool\"},{\"attributes\":{},\"id\":\"4016\",\"type\":\"BasicTickFormatter\"},{\"attributes\":{\"axis_label\":\"Hardware\",\"formatter\":{\"id\":\"4016\",\"type\":\"BasicTickFormatter\"},\"ticker\":{\"id\":\"3852\",\"type\":\"BasicTicker\"}},\"id\":\"3851\",\"type\":\"LinearAxis\"},{\"attributes\":{\"text\":\"Cache per Hardware\"},\"id\":\"3841\",\"type\":\"Title\"},{\"attributes\":{},\"id\":\"4021\",\"type\":\"UnionRenderers\"},{\"attributes\":{\"axis_label\":\"Cache Memory\",\"formatter\":{\"id\":\"4018\",\"type\":\"BasicTickFormatter\"},\"ticker\":{\"id\":\"3857\",\"type\":\"BasicTicker\"}},\"id\":\"3856\",\"type\":\"LinearAxis\"},{\"attributes\":{\"data_source\":{\"id\":\"3874\",\"type\":\"ColumnDataSource\"},\"glyph\":{\"id\":\"3875\",\"type\":\"Scatter\"},\"hover_glyph\":null,\"muted_glyph\":null,\"nonselection_glyph\":{\"id\":\"3876\",\"type\":\"Scatter\"},\"selection_glyph\":null,\"view\":{\"id\":\"3878\",\"type\":\"CDSView\"}},\"id\":\"3877\",\"type\":\"GlyphRenderer\"},{\"attributes\":{},\"id\":\"3849\",\"type\":\"LinearScale\"},{\"attributes\":{},\"id\":\"3865\",\"type\":\"ResetTool\"},{\"attributes\":{},\"id\":\"3852\",\"type\":\"BasicTicker\"},{\"attributes\":{\"source\":{\"id\":\"3874\",\"type\":\"ColumnDataSource\"}},\"id\":\"3878\",\"type\":\"CDSView\"}],\"root_ids\":[\"3840\"]},\"title\":\"Bokeh Application\",\"version\":\"1.4.0\"}};\n",
       "  var render_items = [{\"docid\":\"c8c6ac6c-91be-411d-aa11-7aef56f4ac56\",\"roots\":{\"3840\":\"8e3973a5-cc14-4f7d-90e5-ce81018bae8f\"}}];\n",
       "  root.Bokeh.embed.embed_items_notebook(docs_json, render_items);\n",
       "\n",
       "  }\n",
       "  if (root.Bokeh !== undefined) {\n",
       "    embed_document(root);\n",
       "  } else {\n",
       "    var attempts = 0;\n",
       "    var timer = setInterval(function(root) {\n",
       "      if (root.Bokeh !== undefined) {\n",
       "        clearInterval(timer);\n",
       "        embed_document(root);\n",
       "      } else {\n",
       "        attempts++;\n",
       "        if (attempts > 100) {\n",
       "          clearInterval(timer);\n",
       "          console.log(\"Bokeh: ERROR: Unable to run BokehJS code because BokehJS library is missing\");\n",
       "        }\n",
       "      }\n",
       "    }, 10, root)\n",
       "  }\n",
       "})(window);"
      ],
      "application/vnd.bokehjs_exec.v0+json": ""
     },
     "metadata": {
      "application/vnd.bokehjs_exec.v0+json": {
       "id": "3840"
      }
     },
     "output_type": "display_data"
    }
   ],
   "source": [
    "# adding color based on the mean price to our elements\n",
    "from bokeh.models import LinearColorMapper\n",
    "\n",
    "color_mapper = LinearColorMapper(palette='Magma256', low=min(dataset['cach']), high=max(dataset['cach'])) \n",
    "\n",
    "plot = figure(title='Cache per Hardware', x_axis_label='Hardware', y_axis_label='Cache Memory')\n",
    "plot.scatter(dataset['index'], dataset['cach'], color={'field': 'y', 'transform': color_mapper}, size=10)\n",
    "\n",
    "show(plot)"
   ]
  },
  {
   "cell_type": "markdown",
   "metadata": {},
   "source": [
    "### DataSources"
   ]
  },
  {
   "cell_type": "markdown",
   "metadata": {},
   "source": [
    "DataSources can be helpful in several cases like e.g. displaying a tooltip on hovering the data points.   \n",
    "In most cases we can use pandas dataframes to feed data into our plot, but for certain features like tooltips, we have to use DataSource."
   ]
  },
  {
   "cell_type": "code",
   "execution_count": 61,
   "metadata": {},
   "outputs": [
    {
     "data": {
      "text/html": [
       "\n",
       "\n",
       "\n",
       "\n",
       "\n",
       "\n",
       "  <div class=\"bk-root\" id=\"3226a5f0-c06a-44c9-bad1-935adbe4eced\" data-root-id=\"6724\"></div>\n"
      ]
     },
     "metadata": {},
     "output_type": "display_data"
    },
    {
     "data": {
      "application/javascript": [
       "(function(root) {\n",
       "  function embed_document(root) {\n",
       "    \n",
       "  var docs_json = {\"07d04341-87f6-4b84-a910-538236b03d35\":{\"roots\":{\"references\":[{\"attributes\":{\"below\":[{\"id\":\"6735\",\"type\":\"LinearAxis\"}],\"center\":[{\"id\":\"6739\",\"type\":\"Grid\"},{\"id\":\"6744\",\"type\":\"Grid\"}],\"left\":[{\"id\":\"6740\",\"type\":\"LinearAxis\"}],\"renderers\":[{\"id\":\"6763\",\"type\":\"GlyphRenderer\"}],\"title\":{\"id\":\"6725\",\"type\":\"Title\"},\"toolbar\":{\"id\":\"6752\",\"type\":\"Toolbar\"},\"x_range\":{\"id\":\"6727\",\"type\":\"DataRange1d\"},\"x_scale\":{\"id\":\"6731\",\"type\":\"LinearScale\"},\"y_range\":{\"id\":\"6729\",\"type\":\"DataRange1d\"},\"y_scale\":{\"id\":\"6733\",\"type\":\"LinearScale\"}},\"id\":\"6724\",\"subtype\":\"Figure\",\"type\":\"Plot\"},{\"attributes\":{\"ticker\":{\"id\":\"6736\",\"type\":\"BasicTicker\"}},\"id\":\"6739\",\"type\":\"Grid\"},{\"attributes\":{\"dimension\":1,\"ticker\":{\"id\":\"6741\",\"type\":\"BasicTicker\"}},\"id\":\"6744\",\"type\":\"Grid\"},{\"attributes\":{\"active_drag\":\"auto\",\"active_inspect\":\"auto\",\"active_multi\":null,\"active_scroll\":\"auto\",\"active_tap\":\"auto\",\"tools\":[{\"id\":\"6745\",\"type\":\"PanTool\"},{\"id\":\"6746\",\"type\":\"WheelZoomTool\"},{\"id\":\"6747\",\"type\":\"BoxZoomTool\"},{\"id\":\"6748\",\"type\":\"SaveTool\"},{\"id\":\"6749\",\"type\":\"ResetTool\"},{\"id\":\"6750\",\"type\":\"HelpTool\"},{\"id\":\"6751\",\"type\":\"HoverTool\"}]},\"id\":\"6752\",\"type\":\"Toolbar\"},{\"attributes\":{},\"id\":\"6984\",\"type\":\"BasicTickFormatter\"},{\"attributes\":{},\"id\":\"6987\",\"type\":\"UnionRenderers\"},{\"attributes\":{\"bottom_units\":\"screen\",\"fill_alpha\":{\"value\":0.5},\"fill_color\":{\"value\":\"lightgrey\"},\"left_units\":\"screen\",\"level\":\"overlay\",\"line_alpha\":{\"value\":1.0},\"line_color\":{\"value\":\"black\"},\"line_dash\":[4,4],\"line_width\":{\"value\":2},\"render_mode\":\"css\",\"right_units\":\"screen\",\"top_units\":\"screen\"},\"id\":\"6988\",\"type\":\"BoxAnnotation\"},{\"attributes\":{},\"id\":\"6746\",\"type\":\"WheelZoomTool\"},{\"attributes\":{},\"id\":\"6749\",\"type\":\"ResetTool\"},{\"attributes\":{\"axis_label\":\"Cache Memory\",\"formatter\":{\"id\":\"6984\",\"type\":\"BasicTickFormatter\"},\"ticker\":{\"id\":\"6741\",\"type\":\"BasicTicker\"}},\"id\":\"6740\",\"type\":\"LinearAxis\"},{\"attributes\":{\"fill_color\":{\"value\":\"teal\"},\"line_color\":{\"value\":\"teal\"},\"size\":{\"units\":\"screen\",\"value\":10},\"x\":{\"field\":\"x\"},\"y\":{\"field\":\"y\"}},\"id\":\"6761\",\"type\":\"Scatter\"},{\"attributes\":{\"callback\":null},\"id\":\"6729\",\"type\":\"DataRange1d\"},{\"attributes\":{},\"id\":\"6741\",\"type\":\"BasicTicker\"},{\"attributes\":{},\"id\":\"6982\",\"type\":\"BasicTickFormatter\"},{\"attributes\":{\"axis_label\":\"Hardware\",\"formatter\":{\"id\":\"6982\",\"type\":\"BasicTickFormatter\"},\"ticker\":{\"id\":\"6736\",\"type\":\"BasicTicker\"}},\"id\":\"6735\",\"type\":\"LinearAxis\"},{\"attributes\":{\"callback\":null,\"tooltips\":[[\"Vendor\",\"@vendor_name\"],[\"Model\",\"@model\"],[\"Cache\",\"@cach\"]]},\"id\":\"6751\",\"type\":\"HoverTool\"},{\"attributes\":{},\"id\":\"6736\",\"type\":\"BasicTicker\"},{\"attributes\":{},\"id\":\"6986\",\"type\":\"Selection\"},{\"attributes\":{},\"id\":\"6745\",\"type\":\"PanTool\"},{\"attributes\":{},\"id\":\"6750\",\"type\":\"HelpTool\"},{\"attributes\":{\"overlay\":{\"id\":\"6988\",\"type\":\"BoxAnnotation\"}},\"id\":\"6747\",\"type\":\"BoxZoomTool\"},{\"attributes\":{},\"id\":\"6748\",\"type\":\"SaveTool\"},{\"attributes\":{\"source\":{\"id\":\"6723\",\"type\":\"ColumnDataSource\"}},\"id\":\"6764\",\"type\":\"CDSView\"},{\"attributes\":{\"fill_alpha\":{\"value\":0.1},\"fill_color\":{\"value\":\"#1f77b4\"},\"line_alpha\":{\"value\":0.1},\"line_color\":{\"value\":\"#1f77b4\"},\"size\":{\"units\":\"screen\",\"value\":10},\"x\":{\"field\":\"x\"},\"y\":{\"field\":\"y\"}},\"id\":\"6762\",\"type\":\"Scatter\"},{\"attributes\":{\"data_source\":{\"id\":\"6723\",\"type\":\"ColumnDataSource\"},\"glyph\":{\"id\":\"6761\",\"type\":\"Scatter\"},\"hover_glyph\":null,\"muted_glyph\":null,\"nonselection_glyph\":{\"id\":\"6762\",\"type\":\"Scatter\"},\"selection_glyph\":null,\"view\":{\"id\":\"6764\",\"type\":\"CDSView\"}},\"id\":\"6763\",\"type\":\"GlyphRenderer\"},{\"attributes\":{},\"id\":\"6731\",\"type\":\"LinearScale\"},{\"attributes\":{\"callback\":null,\"data\":{\"cach\":[256,32,32,32,32,64,64,64,64,128,0,4,65,65,0,0,8,0,0,142,0,0,0,0,0,4,0,4,4,4,131,131,30,30,30,30,8,8,8,8,8,8,8,8,9,9,8,0,4,8,0,0,16,0,16,16,16,0,0,0,0,0,0,64,64,128,0,0,0,8,8,8,0,0,6,6,0,6,6,6,0,8,8,0,0,0,0,8,32,32,32,32,8,1,64,64,64,0,0,0,0,16,0,0,0,0,0,0,0,4,8,0,8,8,8,16,16,2,8,16,8,32,0,0,0,0,8,8,24,24,48,0,24,24,12,24,24,0,16,2,32,32,4,16,32,64,64,64,64,16,32,64,64,128,32,64,256,0,0,0,0,0,0,0,0,32,32,64,160,128,0,0,64,0,0,1,2,2,8,16,32,8,8,8,16,16,32,8,32,64,32,64,128,32,24,48,112,112,96,128,0,0,0,0,0,32,0,32,0],\"model\":[\"32/60\",\"470v/7\",\"470v/7a\",\"470v/7b\",\"470v/7c\",\"470v/b\",\"580-5840\",\"580-5850\",\"580-5860\",\"580-5880\",\"dn320\",\"dn420\",\"7/65\",\"7/68\",\"5000\",\"8000\",\"b1955\",\"b2900\",\"b2925\",\"b4955\",\"b5900\",\"b5920\",\"b6900\",\"b6925\",\"68/10-80\",\"universe:2203t\",\"universe:68\",\"universe:68/05\",\"universe:68/137\",\"universe:68/37\",\"cyber:170/750\",\"cyber:170/760\",\"cyber:170/815\",\"cyber:170/825\",\"cyber:170/835\",\"cyber:170/845\",\"omega:480-i\",\"omega:480-ii\",\"omega:480-iii\",\"1636-1\",\"1636-10\",\"1641-1\",\"1641-11\",\"1651-1\",\"decsys:10:1091\",\"decsys:20:2060\",\"microvax-1\",\"vax:11/730\",\"vax:11/750\",\"vax:11/780\",\"eclipse:c/350\",\"eclipse:m/600\",\"eclipse:mv/10000\",\"eclipse:mv/4000\",\"eclipse:mv/6000\",\"eclipse:mv/8000\",\"eclipse:mv/8000-ii\",\"f4000/100\",\"f4000/200\",\"f4000/200ap\",\"f4000/300\",\"f4000/300ap\",\"2000/260\",\"concept:32/8705\",\"concept:32/8750\",\"concept:32/8780\",\"3000/30\",\"3000/40\",\"3000/44\",\"3000/48\",\"3000/64\",\"3000/88\",\"3000/iii\",\"100\",\"300\",\"500\",\"600\",\"700\",\"80\",\"800\",\"dps:6/35\",\"dps:6/92\",\"dps:6/96\",\"dps:7/35\",\"dps:7/45\",\"dps:7/55\",\"dps:7/65\",\"dps:8/44\",\"dps:8/49\",\"dps:8/50\",\"dps:8/52\",\"dps:8/62\",\"dps:8/20\",\"3033:s\",\"3033:u\",\"3081\",\"3081:d\",\"3083:b\",\"3083:e\",\"370/125-2\",\"370/148\",\"370/158-3\",\"38/3\",\"38/4\",\"38/5\",\"38/7\",\"38/8\",\"4321\",\"4331-1\",\"4331-11\",\"4331-2\",\"4341\",\"4341-1\",\"4341-10\",\"4341-11\",\"4341-12\",\"4341-2\",\"4341-9\",\"4361-4\",\"4361-5\",\"4381-1\",\"4381-2\",\"8130-a\",\"8130-b\",\"8140\",\"4436\",\"4443\",\"4445\",\"4446\",\"4460\",\"4480\",\"m80/30\",\"m80/31\",\"m80/32\",\"m80/42\",\"m80/43\",\"m80/44\",\"seq.ms/3200\",\"as/3000\",\"as/3000-n\",\"as/5000\",\"as/5000-e\",\"as/5000-n\",\"as/6130\",\"as/6150\",\"as/6620\",\"as/6630\",\"as/6650\",\"as/7000\",\"as/7000-n\",\"as/8040\",\"as/8050\",\"as/8060\",\"as/9000-dpc\",\"as/9000-n\",\"as/9040\",\"as/9060\",\"v8535:ii\",\"v8545:ii\",\"v8555:ii\",\"v8565:ii\",\"v8565:ii-e\",\"v8575:ii\",\"v8585:ii\",\"v8595:ii\",\"v8635\",\"v8650\",\"v8655\",\"v8665\",\"v8670\",\"8890/30\",\"8890/50\",\"8890/70\",\"3205\",\"3210\",\"3230\",\"50-2250\",\"50-250-ii\",\"50-550-ii\",\"50-750-ii\",\"50-850-ii\",\"7.521\",\"7.531\",\"7.536\",\"7.541\",\"7.551\",\"7.561\",\"7.865-2\",\"7.870-2\",\"7.872-2\",\"7.875-2\",\"7.880-2\",\"7.881-2\",\"1100/61-h1\",\"1100/81\",\"1100/82\",\"1100/83\",\"1100/84\",\"1100/93\",\"1100/94\",\"80/3\",\"80/4\",\"80/5\",\"80/6\",\"80/8\",\"90/80-model-3\",\"32\",\"vs-100\",\"vs-90\"],\"vendor_name\":[\"adviser\",\"amdahl\",\"amdahl\",\"amdahl\",\"amdahl\",\"amdahl\",\"amdahl\",\"amdahl\",\"amdahl\",\"amdahl\",\"apollo\",\"apollo\",\"basf\",\"basf\",\"bti\",\"bti\",\"burroughs\",\"burroughs\",\"burroughs\",\"burroughs\",\"burroughs\",\"burroughs\",\"burroughs\",\"burroughs\",\"c.r.d\",\"c.r.d\",\"c.r.d\",\"c.r.d\",\"c.r.d\",\"c.r.d\",\"cdc\",\"cdc\",\"cdc\",\"cdc\",\"cdc\",\"cdc\",\"cdc\",\"cdc\",\"cdc\",\"cambex\",\"cambex\",\"cambex\",\"cambex\",\"cambex\",\"dec\",\"dec\",\"dec\",\"dec\",\"dec\",\"dec\",\"dg\",\"dg\",\"dg\",\"dg\",\"dg\",\"dg\",\"dg\",\"formation\",\"formation\",\"formation\",\"formation\",\"formation\",\"four-phase\",\"gould\",\"gould\",\"gould\",\"hp\",\"hp\",\"hp\",\"hp\",\"hp\",\"hp\",\"hp\",\"harris\",\"harris\",\"harris\",\"harris\",\"harris\",\"harris\",\"harris\",\"honeywell\",\"honeywell\",\"honeywell\",\"honeywell\",\"honeywell\",\"honeywell\",\"honeywell\",\"honeywell\",\"honeywell\",\"honeywell\",\"honeywell\",\"honeywell\",\"honeywell\",\"ibm\",\"ibm\",\"ibm\",\"ibm\",\"ibm\",\"ibm\",\"ibm\",\"ibm\",\"ibm\",\"ibm\",\"ibm\",\"ibm\",\"ibm\",\"ibm\",\"ibm\",\"ibm\",\"ibm\",\"ibm\",\"ibm\",\"ibm\",\"ibm\",\"ibm\",\"ibm\",\"ibm\",\"ibm\",\"ibm\",\"ibm\",\"ibm\",\"ibm\",\"ibm\",\"ibm\",\"ibm\",\"ipl\",\"ipl\",\"ipl\",\"ipl\",\"ipl\",\"ipl\",\"magnuson\",\"magnuson\",\"magnuson\",\"magnuson\",\"magnuson\",\"magnuson\",\"microdata\",\"nas\",\"nas\",\"nas\",\"nas\",\"nas\",\"nas\",\"nas\",\"nas\",\"nas\",\"nas\",\"nas\",\"nas\",\"nas\",\"nas\",\"nas\",\"nas\",\"nas\",\"nas\",\"nas\",\"ncr\",\"ncr\",\"ncr\",\"ncr\",\"ncr\",\"ncr\",\"ncr\",\"ncr\",\"ncr\",\"ncr\",\"ncr\",\"ncr\",\"ncr\",\"nixdorf\",\"nixdorf\",\"nixdorf\",\"perkin-elmer\",\"perkin-elmer\",\"perkin-elmer\",\"prime\",\"prime\",\"prime\",\"prime\",\"prime\",\"siemens\",\"siemens\",\"siemens\",\"siemens\",\"siemens\",\"siemens\",\"siemens\",\"siemens\",\"siemens\",\"siemens\",\"siemens\",\"siemens\",\"sperry\",\"sperry\",\"sperry\",\"sperry\",\"sperry\",\"sperry\",\"sperry\",\"sperry\",\"sperry\",\"sperry\",\"sperry\",\"sperry\",\"sperry\",\"sratus\",\"wang\",\"wang\"],\"x\":[0,1,2,3,4,5,6,7,8,9,10,11,12,13,14,15,16,17,18,19,20,21,22,23,24,25,26,27,28,29,30,31,32,33,34,35,36,37,38,39,40,41,42,43,44,45,46,47,48,49,50,51,52,53,54,55,56,57,58,59,60,61,62,63,64,65,66,67,68,69,70,71,72,73,74,75,76,77,78,79,80,81,82,83,84,85,86,87,88,89,90,91,92,93,94,95,96,97,98,99,100,101,102,103,104,105,106,107,108,109,110,111,112,113,114,115,116,117,118,119,120,121,122,123,124,125,126,127,128,129,130,131,132,133,134,135,136,137,138,139,140,141,142,143,144,145,146,147,148,149,150,151,152,153,154,155,156,157,158,159,160,161,162,163,164,165,166,167,168,169,170,171,172,173,174,175,176,177,178,179,180,181,182,183,184,185,186,187,188,189,190,191,192,193,194,195,196,197,198,199,200,201,202,203,204,205,206,207,208],\"y\":[256,32,32,32,32,64,64,64,64,128,0,4,65,65,0,0,8,0,0,142,0,0,0,0,0,4,0,4,4,4,131,131,30,30,30,30,8,8,8,8,8,8,8,8,9,9,8,0,4,8,0,0,16,0,16,16,16,0,0,0,0,0,0,64,64,128,0,0,0,8,8,8,0,0,6,6,0,6,6,6,0,8,8,0,0,0,0,8,32,32,32,32,8,1,64,64,64,0,0,0,0,16,0,0,0,0,0,0,0,4,8,0,8,8,8,16,16,2,8,16,8,32,0,0,0,0,8,8,24,24,48,0,24,24,12,24,24,0,16,2,32,32,4,16,32,64,64,64,64,16,32,64,64,128,32,64,256,0,0,0,0,0,0,0,0,32,32,64,160,128,0,0,64,0,0,1,2,2,8,16,32,8,8,8,16,16,32,8,32,64,32,64,128,32,24,48,112,112,96,128,0,0,0,0,0,32,0,32,0]},\"selected\":{\"id\":\"6986\",\"type\":\"Selection\"},\"selection_policy\":{\"id\":\"6987\",\"type\":\"UnionRenderers\"}},\"id\":\"6723\",\"type\":\"ColumnDataSource\"},{\"attributes\":{},\"id\":\"6733\",\"type\":\"LinearScale\"},{\"attributes\":{\"text\":\"Cache per Hardware\"},\"id\":\"6725\",\"type\":\"Title\"},{\"attributes\":{\"callback\":null},\"id\":\"6727\",\"type\":\"DataRange1d\"}],\"root_ids\":[\"6724\"]},\"title\":\"Bokeh Application\",\"version\":\"1.4.0\"}};\n",
       "  var render_items = [{\"docid\":\"07d04341-87f6-4b84-a910-538236b03d35\",\"roots\":{\"6724\":\"3226a5f0-c06a-44c9-bad1-935adbe4eced\"}}];\n",
       "  root.Bokeh.embed.embed_items_notebook(docs_json, render_items);\n",
       "\n",
       "  }\n",
       "  if (root.Bokeh !== undefined) {\n",
       "    embed_document(root);\n",
       "  } else {\n",
       "    var attempts = 0;\n",
       "    var timer = setInterval(function(root) {\n",
       "      if (root.Bokeh !== undefined) {\n",
       "        clearInterval(timer);\n",
       "        embed_document(root);\n",
       "      } else {\n",
       "        attempts++;\n",
       "        if (attempts > 100) {\n",
       "          clearInterval(timer);\n",
       "          console.log(\"Bokeh: ERROR: Unable to run BokehJS code because BokehJS library is missing\");\n",
       "        }\n",
       "      }\n",
       "    }, 10, root)\n",
       "  }\n",
       "})(window);"
      ],
      "application/vnd.bokehjs_exec.v0+json": ""
     },
     "metadata": {
      "application/vnd.bokehjs_exec.v0+json": {
       "id": "6724"
      }
     },
     "output_type": "display_data"
    }
   ],
   "source": [
    "# using a ColumnDataSource to display a tooltip on hovering\n",
    "from bokeh.models.sources import ColumnDataSource\n",
    "\n",
    "data_source = ColumnDataSource(data=dict(\n",
    "    vendor_name=dataset['vendor_name'],\n",
    "    model=dataset['model'],\n",
    "    cach=dataset['cach'],\n",
    "    x=dataset['index'],\n",
    "    y=dataset['cach']\n",
    "))\n",
    "    \n",
    "TOOLTIPS=[\n",
    "    ('Vendor', '@vendor_name'),\n",
    "    ('Model', '@model'),\n",
    "    ('Cache', '@cach')\n",
    "]\n",
    "    \n",
    "plot = figure(title='Cache per Hardware', x_axis_label='Hardware'\n",
    "              , y_axis_label='Cache Memory'\n",
    "              , tooltips=TOOLTIPS)\n",
    "plot.scatter('x', 'y', size=10, color='teal', source=data_source)\n",
    "\n",
    "show(plot)"
   ]
  },
  {
   "cell_type": "markdown",
   "metadata": {},
   "source": [
    "### Interactive Widget"
   ]
  },
  {
   "cell_type": "markdown",
   "metadata": {},
   "source": [
    "In the example below, we first import the interact element from the ipywidgets library.   \n",
    "This then allows us to define a new method and annotate it with the given @interact decorator.\n",
    "\n",
    "The provided Value attribute tells the interact element which widget to used based on the data type of the argument. In our example we provide it a string which will give us a TextBox widget. \n",
    "We can refer to the table above to determine which Value data type will return which widget.\n",
    "\n",
    "The print statement in the code above simply prints whatever has been entered in the textbox below the widget."
   ]
  },
  {
   "cell_type": "code",
   "execution_count": 6,
   "metadata": {},
   "outputs": [
    {
     "data": {
      "application/vnd.jupyter.widget-view+json": {
       "model_id": "bb8a4a0965e6430e860b89a1cbbe0cc5",
       "version_major": 2,
       "version_minor": 0
      },
      "text/plain": [
       "interactive(children=(Text(value='Input Text', description='Value'), Output()), _dom_classes=('widget-interact…"
      ]
     },
     "metadata": {},
     "output_type": "display_data"
    }
   ],
   "source": [
    "# importing the widgets\n",
    "from ipywidgets import interact, interact_manual\n",
    "\n",
    "# creating an input text\n",
    "@interact(Value='Input Text')\n",
    "def text_input(Value):\n",
    "    print(Value)"
   ]
  },
  {
   "cell_type": "markdown",
   "metadata": {},
   "source": [
    "**Note**   \n",
    "The structure of the methods defined to use interact on always have the same structure. We will look at several examples in the following exercise."
   ]
  }
 ],
 "metadata": {
  "kernelspec": {
   "display_name": "Python 3",
   "language": "python",
   "name": "python3"
  },
  "language_info": {
   "codemirror_mode": {
    "name": "ipython",
    "version": 3
   },
   "file_extension": ".py",
   "mimetype": "text/x-python",
   "name": "python",
   "nbconvert_exporter": "python",
   "pygments_lexer": "ipython3",
   "version": "3.7.2"
  }
 },
 "nbformat": 4,
 "nbformat_minor": 2
}
